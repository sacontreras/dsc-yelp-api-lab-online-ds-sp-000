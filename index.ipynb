{
 "cells": [
  {
   "cell_type": "markdown",
   "metadata": {},
   "source": [
    "# Yelp API - Lab\n",
    "\n",
    "\n",
    "## Introduction \n",
    "\n",
    "Now that we've seen how the Yelp API works and some basic Folium visualizations, it's time to put those skills to work in order to create a working map! Taking things a step further, you'll also independently explore how to perform pagination in order to retrieve a full results set from the Yelp API!\n",
    "\n",
    "## Objectives\n",
    "\n",
    "You will be able to: \n",
    "* Create HTTP requests to get data from Yelp API\n",
    "* Parse HTTP responses and perform data analysis on the data returned\n",
    "* Perform pagination to retrieve troves of data!\n",
    "* Create a simple geographical system to view information about selected businesses, at a given location. \n",
    "\n",
    "## Problem Introduction\n",
    "\n",
    "You've now worked with some API calls, but we have yet to see how to retrieve a more complete dataset in a programmatic manner. Returning to the Yelp API, the [documentation](https://www.yelp.com/developers/documentation/v3/business_search) also provides us details regarding the API limits. These often include details about the number of requests a user is allowed to make within a specified time limit and the maximum number of results to be returned. In this case, we are told that any request has a maximum of 50 results per request and defaults to 20. Furthermore, any search will be limited to a total of 1000 results. To retrieve all 1000 of these results, we would have to page through the results piece by piece, retrieving 50 at a time. Processes such as these are often referred to as pagination.\n",
    "\n",
    "In this lab, you will define a search and then paginate over the results to retrieve all of the results. You'll then parse these responses as a DataFrame (for further exploration) and create a map using Folium to visualize the results geographically.\n",
    "\n",
    "## Part I - Make the Initial Request\n",
    "\n",
    "Start by making an initial request to the Yelp API. Your search must include at least 2 parameters: **term** and **location**. For example, you might search for pizza restaurants in NYC. The term and location is up to you but make the request below."
   ]
  },
  {
   "cell_type": "code",
   "execution_count": 1,
   "metadata": {},
   "outputs": [],
   "source": [
    "%load_ext autoreload\n",
    "%autoreload 2"
   ]
  },
  {
   "cell_type": "code",
   "execution_count": 2,
   "metadata": {},
   "outputs": [],
   "source": [
    "import json\n",
    "\n",
    "def get_keys(path):\n",
    "    with open(path) as f:\n",
    "        return json.load(f)"
   ]
  },
  {
   "cell_type": "code",
   "execution_count": 3,
   "metadata": {},
   "outputs": [],
   "source": [
    "#keys = get_keys(\"/Users/YOUR_USERNAME_HERE/.secret/yelp_api.json\")\n",
    "#make the real call and then delete it before checking this notebook into github\n",
    "keys = get_keys(\"/Users/stevencontreras/.secret/yelp_api.json\")\n",
    "\n",
    "api_key = keys['api_key']"
   ]
  },
  {
   "cell_type": "code",
   "execution_count": 4,
   "metadata": {},
   "outputs": [
    {
     "name": "stdout",
     "output_type": "stream",
     "text": [
      "<Response [200]>\n",
      "<class 'str'>\n",
      "{\"businesses\": [{\"id\": \"6KBD9MojkUnAjl3Nd3_Q1Q\", \"alias\": \"shawarma-grill-temecula\", \"name\": \"Shawarma Grill\", \"image_url\": \"https://s3-media1.fl.yelpcdn.com/bphoto/c8GcB3DuD7hb_0JuFBeUgw/o.jpg\", \"is_closed\": false, \"url\": \"https://www.yelp.com/biz/shawarma-grill-temecula?adjust_creative=gBxhRENfHXDkQVEYLCU1Lg&utm_campaign=yelp_api_v3&utm_medium=api_v3_business_search&utm_source=gBxhRENfHXDkQVEYLCU1Lg\", \"review_count\": 205, \"categories\": [{\"alias\": \"sandwiches\", \"title\": \"Sandwiches\"}, {\"alias\": \"wraps\", \"title\": \"Wraps\"}, {\"alias\": \"mideastern\", \"title\": \"Middle Eastern\"}], \"rating\": 4.5, \"coordinates\": {\"latitude\": 33.48217, \"longitude\": -117.0899}, \"transactions\": [\"pickup\", \"delivery\"], \"location\": {\"address1\": \"32483 Temecula Pkwy\", \"address2\": \"E117\", \"address3\": null, \"city\": \"Temecula\", \"zip_code\": \"92592\", \"country\": \"US\", \"state\": \"CA\", \"display_address\": [\"32483 Temecula Pkwy\", \"E117\", \"Temecula, CA 92592\"]}, \"phone\": \"+19513020095\", \"display_phone\": \"(951) 302-0095\", \"dista\n"
     ]
    }
   ],
   "source": [
    "import requests\n",
    "term = 'Greek'\n",
    "location = 'Temecula CA'\n",
    "SEARCH_LIMIT = 10\n",
    "\n",
    "url = 'https://api.yelp.com/v3/businesses/search'\n",
    "\n",
    "headers = {\n",
    "        'Authorization': 'Bearer {}'.format(api_key),\n",
    "    }\n",
    "\n",
    "url_params = {\n",
    "                'term': term.replace(' ', '+'),\n",
    "                'location': location.replace(' ', '+'),\n",
    "                'limit': SEARCH_LIMIT\n",
    "            }\n",
    "response = requests.get(url, headers=headers, params=url_params)\n",
    "print(response)\n",
    "print(type(response.text))\n",
    "print(response.text[:1000])"
   ]
  },
  {
   "cell_type": "markdown",
   "metadata": {},
   "source": [
    "## Pagination\n",
    "\n",
    "Now that you have an initial response, you can examine the contents of the JSON container. For example, you might start with ```response.json().keys()```. Here, you'll see a key for `'total'`, which tells you the full number of matching results given your query parameters. Write a loop (or ideally a function) which then makes successive API calls using the offset parameter to retrieve all of the results (or 5000 for a particularly large result set) for the original query. As you do this, be mindful of how you store the data. Your final goal will be to reformat the data concerning the businesses themselves into a pandas DataFrame from the json objects.\n",
    "\n",
    "**Note: be mindful of the API rate limits. You can only make 5000 requests per day and are also can make requests too fast. Start prototyping small before running a loop that could be faulty. You can also use time.sleep(n) to add delays. For more details see https://www.yelp.com/developers/documentation/v3/rate_limiting.**"
   ]
  },
  {
   "cell_type": "code",
   "execution_count": 5,
   "metadata": {},
   "outputs": [
    {
     "data": {
      "text/plain": [
       "dict_keys(['businesses', 'total', 'region'])"
      ]
     },
     "execution_count": 5,
     "metadata": {},
     "output_type": "execute_result"
    }
   ],
   "source": [
    "# Your code here; use a function or loop to retrieve all the results from your original request\n",
    "r_json = response.json()\n",
    "r_json.keys()"
   ]
  },
  {
   "cell_type": "code",
   "execution_count": 6,
   "metadata": {},
   "outputs": [
    {
     "data": {
      "text/plain": [
       "24"
      ]
     },
     "execution_count": 6,
     "metadata": {},
     "output_type": "execute_result"
    }
   ],
   "source": [
    "total = r_json['total']\n",
    "total"
   ]
  },
  {
   "cell_type": "code",
   "execution_count": 7,
   "metadata": {
    "scrolled": false
   },
   "outputs": [
    {
     "data": {
      "text/html": [
       "<div>\n",
       "<style scoped>\n",
       "    .dataframe tbody tr th:only-of-type {\n",
       "        vertical-align: middle;\n",
       "    }\n",
       "\n",
       "    .dataframe tbody tr th {\n",
       "        vertical-align: top;\n",
       "    }\n",
       "\n",
       "    .dataframe thead th {\n",
       "        text-align: right;\n",
       "    }\n",
       "</style>\n",
       "<table border=\"1\" class=\"dataframe\">\n",
       "  <thead>\n",
       "    <tr style=\"text-align: right;\">\n",
       "      <th></th>\n",
       "      <th>id</th>\n",
       "      <th>alias</th>\n",
       "      <th>name</th>\n",
       "      <th>image_url</th>\n",
       "      <th>is_claimed</th>\n",
       "      <th>is_closed</th>\n",
       "      <th>url</th>\n",
       "      <th>phone</th>\n",
       "      <th>display_phone</th>\n",
       "      <th>review_count</th>\n",
       "      <th>categories</th>\n",
       "      <th>rating</th>\n",
       "      <th>location</th>\n",
       "      <th>coordinates</th>\n",
       "      <th>photos</th>\n",
       "      <th>hours</th>\n",
       "      <th>transactions</th>\n",
       "      <th>price</th>\n",
       "      <th>messaging</th>\n",
       "    </tr>\n",
       "  </thead>\n",
       "  <tbody>\n",
       "    <tr>\n",
       "      <th>0</th>\n",
       "      <td>6KBD9MojkUnAjl3Nd3_Q1Q</td>\n",
       "      <td>shawarma-grill-temecula</td>\n",
       "      <td>Shawarma Grill</td>\n",
       "      <td>https://s3-media1.fl.yelpcdn.com/bphoto/c8GcB3...</td>\n",
       "      <td>True</td>\n",
       "      <td>False</td>\n",
       "      <td>https://www.yelp.com/biz/shawarma-grill-temecu...</td>\n",
       "      <td>+19513020095</td>\n",
       "      <td>(951) 302-0095</td>\n",
       "      <td>205</td>\n",
       "      <td>[{'alias': 'sandwiches', 'title': 'Sandwiches'...</td>\n",
       "      <td>4.5</td>\n",
       "      <td>{'address1': '32483 Temecula Pkwy', 'address2'...</td>\n",
       "      <td>{'latitude': 33.48217, 'longitude': -117.0899}</td>\n",
       "      <td>[https://s3-media1.fl.yelpcdn.com/bphoto/c8GcB...</td>\n",
       "      <td>[{'open': [{'is_overnight': False, 'start': '1...</td>\n",
       "      <td>[delivery, pickup]</td>\n",
       "      <td>NaN</td>\n",
       "      <td>NaN</td>\n",
       "    </tr>\n",
       "    <tr>\n",
       "      <th>1</th>\n",
       "      <td>Nxq9sYlzkpELg78g4gImBQ</td>\n",
       "      <td>kabob-house-temecula-2</td>\n",
       "      <td>Kabob House</td>\n",
       "      <td>https://s3-media2.fl.yelpcdn.com/bphoto/e5BATv...</td>\n",
       "      <td>True</td>\n",
       "      <td>False</td>\n",
       "      <td>https://www.yelp.com/biz/kabob-house-temecula-...</td>\n",
       "      <td>+19513030110</td>\n",
       "      <td>(951) 303-0110</td>\n",
       "      <td>208</td>\n",
       "      <td>[{'alias': 'mediterranean', 'title': 'Mediterr...</td>\n",
       "      <td>4.5</td>\n",
       "      <td>{'address1': '31093 Temecula Pkwy', 'address2'...</td>\n",
       "      <td>{'latitude': 33.47516, 'longitude': -117.12056}</td>\n",
       "      <td>[https://s3-media2.fl.yelpcdn.com/bphoto/e5BAT...</td>\n",
       "      <td>[{'open': [{'is_overnight': False, 'start': '1...</td>\n",
       "      <td>[delivery, pickup]</td>\n",
       "      <td>$$</td>\n",
       "      <td>NaN</td>\n",
       "    </tr>\n",
       "    <tr>\n",
       "      <th>2</th>\n",
       "      <td>2RVZWPhzWjjRXmTUUmdhKQ</td>\n",
       "      <td>soros-mediterranean-temecula</td>\n",
       "      <td>Soro's Mediterranean</td>\n",
       "      <td>https://s3-media1.fl.yelpcdn.com/bphoto/cuxhfe...</td>\n",
       "      <td>True</td>\n",
       "      <td>False</td>\n",
       "      <td>https://www.yelp.com/biz/soros-mediterranean-t...</td>\n",
       "      <td>+19515878082</td>\n",
       "      <td>(951) 587-8082</td>\n",
       "      <td>752</td>\n",
       "      <td>[{'alias': 'mediterranean', 'title': 'Mediterr...</td>\n",
       "      <td>4.0</td>\n",
       "      <td>{'address1': '28464 Old Town Front St', 'addre...</td>\n",
       "      <td>{'latitude': 33.4958496, 'longitude': -117.151...</td>\n",
       "      <td>[https://s3-media1.fl.yelpcdn.com/bphoto/cuxhf...</td>\n",
       "      <td>[{'open': [{'is_overnight': False, 'start': '0...</td>\n",
       "      <td>[pickup, delivery]</td>\n",
       "      <td>$$</td>\n",
       "      <td>NaN</td>\n",
       "    </tr>\n",
       "    <tr>\n",
       "      <th>3</th>\n",
       "      <td>IbHNfpX57dBeQfxctwzvZw</td>\n",
       "      <td>mr-kabob-fresh-mediterranean-grill-temecula</td>\n",
       "      <td>Mr. Kabob Fresh Mediterranean Grill</td>\n",
       "      <td>https://s3-media3.fl.yelpcdn.com/bphoto/PJ7Wtk...</td>\n",
       "      <td>True</td>\n",
       "      <td>False</td>\n",
       "      <td>https://www.yelp.com/biz/mr-kabob-fresh-medite...</td>\n",
       "      <td>+19516766175</td>\n",
       "      <td>(951) 676-6175</td>\n",
       "      <td>494</td>\n",
       "      <td>[{'alias': 'mediterranean', 'title': 'Mediterr...</td>\n",
       "      <td>4.0</td>\n",
       "      <td>{'address1': '28120 Jefferson Ave', 'address2'...</td>\n",
       "      <td>{'latitude': 33.50337, 'longitude': -117.15366}</td>\n",
       "      <td>[https://s3-media3.fl.yelpcdn.com/bphoto/PJ7Wt...</td>\n",
       "      <td>[{'open': [{'is_overnight': False, 'start': '1...</td>\n",
       "      <td>[pickup, delivery]</td>\n",
       "      <td>$$</td>\n",
       "      <td>NaN</td>\n",
       "    </tr>\n",
       "    <tr>\n",
       "      <th>4</th>\n",
       "      <td>0KrVp4dyKY9UtRzz2htiWg</td>\n",
       "      <td>pangaea-restaurant-and-wine-bar-temecula</td>\n",
       "      <td>Pangaea Restaurant and Wine Bar</td>\n",
       "      <td>https://s3-media1.fl.yelpcdn.com/bphoto/SFdEGN...</td>\n",
       "      <td>True</td>\n",
       "      <td>False</td>\n",
       "      <td>https://www.yelp.com/biz/pangaea-restaurant-an...</td>\n",
       "      <td>+19512965674</td>\n",
       "      <td>(951) 296-5674</td>\n",
       "      <td>129</td>\n",
       "      <td>[{'alias': 'mediterranean', 'title': 'Mediterr...</td>\n",
       "      <td>4.5</td>\n",
       "      <td>{'address1': '27326 Jefferson Ave', 'address2'...</td>\n",
       "      <td>{'latitude': 33.52241, 'longitude': -117.1653}</td>\n",
       "      <td>[https://s3-media1.fl.yelpcdn.com/bphoto/SFdEG...</td>\n",
       "      <td>[{'open': [{'is_overnight': False, 'start': '1...</td>\n",
       "      <td>[delivery]</td>\n",
       "      <td>$$</td>\n",
       "      <td>NaN</td>\n",
       "    </tr>\n",
       "    <tr>\n",
       "      <th>5</th>\n",
       "      <td>8-7EJE5xwKKD9BKL3ywuyA</td>\n",
       "      <td>luna-grill-temecula-temecula-3</td>\n",
       "      <td>Luna Grill - Temecula</td>\n",
       "      <td>https://s3-media3.fl.yelpcdn.com/bphoto/5ggHRU...</td>\n",
       "      <td>True</td>\n",
       "      <td>False</td>\n",
       "      <td>https://www.yelp.com/biz/luna-grill-temecula-t...</td>\n",
       "      <td>+19512960605</td>\n",
       "      <td>(951) 296-0605</td>\n",
       "      <td>325</td>\n",
       "      <td>[{'alias': 'mediterranean', 'title': 'Mediterr...</td>\n",
       "      <td>4.0</td>\n",
       "      <td>{'address1': '40756 Winchester Rd', 'address2'...</td>\n",
       "      <td>{'latitude': 33.5244447080731, 'longitude': -1...</td>\n",
       "      <td>[https://s3-media3.fl.yelpcdn.com/bphoto/5ggHR...</td>\n",
       "      <td>[{'open': [{'is_overnight': False, 'start': '1...</td>\n",
       "      <td>[delivery, pickup]</td>\n",
       "      <td>$$</td>\n",
       "      <td>NaN</td>\n",
       "    </tr>\n",
       "    <tr>\n",
       "      <th>6</th>\n",
       "      <td>VNebwNMWToluPA59E_QYSw</td>\n",
       "      <td>daphnes-temecula</td>\n",
       "      <td>Daphne's</td>\n",
       "      <td>https://s3-media3.fl.yelpcdn.com/bphoto/8mnngs...</td>\n",
       "      <td>True</td>\n",
       "      <td>False</td>\n",
       "      <td>https://www.yelp.com/biz/daphnes-temecula?adju...</td>\n",
       "      <td>+19515061110</td>\n",
       "      <td>(951) 506-1110</td>\n",
       "      <td>184</td>\n",
       "      <td>[{'alias': 'greek', 'title': 'Greek'}, {'alias...</td>\n",
       "      <td>3.5</td>\n",
       "      <td>{'address1': '27644 Ynez Rd, Ste M1-3', 'addre...</td>\n",
       "      <td>{'latitude': 33.50414, 'longitude': -117.14892}</td>\n",
       "      <td>[https://s3-media3.fl.yelpcdn.com/bphoto/8mnng...</td>\n",
       "      <td>[{'open': [{'is_overnight': False, 'start': '1...</td>\n",
       "      <td>[delivery, pickup]</td>\n",
       "      <td>$</td>\n",
       "      <td>{'url': 'https://www.yelp.com/raq/VNebwNMWTolu...</td>\n",
       "    </tr>\n",
       "    <tr>\n",
       "      <th>7</th>\n",
       "      <td>1anMOn5Rh9d-9qRxN0U6PQ</td>\n",
       "      <td>skewers-of-temecula-temecula</td>\n",
       "      <td>Skewers of Temecula</td>\n",
       "      <td>https://s3-media2.fl.yelpcdn.com/bphoto/OGNqVv...</td>\n",
       "      <td>True</td>\n",
       "      <td>False</td>\n",
       "      <td>https://www.yelp.com/biz/skewers-of-temecula-t...</td>\n",
       "      <td>+19517193237</td>\n",
       "      <td>(951) 719-3237</td>\n",
       "      <td>338</td>\n",
       "      <td>[{'alias': 'afghani', 'title': 'Afghan'}, {'al...</td>\n",
       "      <td>4.5</td>\n",
       "      <td>{'address1': '41653 Margarita Rd', 'address2':...</td>\n",
       "      <td>{'latitude': 33.5203907, 'longitude': -117.151...</td>\n",
       "      <td>[https://s3-media2.fl.yelpcdn.com/bphoto/OGNqV...</td>\n",
       "      <td>[{'open': [{'is_overnight': False, 'start': '1...</td>\n",
       "      <td>[delivery, pickup]</td>\n",
       "      <td>$</td>\n",
       "      <td>NaN</td>\n",
       "    </tr>\n",
       "    <tr>\n",
       "      <th>8</th>\n",
       "      <td>OAaUl7aienFAjdyrqmpxfA</td>\n",
       "      <td>sultan-bakery-and-grill-murrieta-4</td>\n",
       "      <td>Sultan Bakery and Grill</td>\n",
       "      <td>https://s3-media4.fl.yelpcdn.com/bphoto/3aLeTf...</td>\n",
       "      <td>True</td>\n",
       "      <td>False</td>\n",
       "      <td>https://www.yelp.com/biz/sultan-bakery-and-gri...</td>\n",
       "      <td>+19518944544</td>\n",
       "      <td>(951) 894-4544</td>\n",
       "      <td>680</td>\n",
       "      <td>[{'alias': 'bakeries', 'title': 'Bakeries'}, {...</td>\n",
       "      <td>4.5</td>\n",
       "      <td>{'address1': '25285 Madison Ave', 'address2': ...</td>\n",
       "      <td>{'latitude': 33.553195, 'longitude': -117.197106}</td>\n",
       "      <td>[https://s3-media4.fl.yelpcdn.com/bphoto/3aLeT...</td>\n",
       "      <td>[{'open': [{'is_overnight': False, 'start': '1...</td>\n",
       "      <td>[delivery, pickup]</td>\n",
       "      <td>$</td>\n",
       "      <td>NaN</td>\n",
       "    </tr>\n",
       "    <tr>\n",
       "      <th>9</th>\n",
       "      <td>uJnhj7xu2Ec0lCZcyJWuoA</td>\n",
       "      <td>greek-style-chicken-fallbrook</td>\n",
       "      <td>Greek Style Chicken</td>\n",
       "      <td>https://s3-media1.fl.yelpcdn.com/bphoto/VMuNHr...</td>\n",
       "      <td>True</td>\n",
       "      <td>False</td>\n",
       "      <td>https://www.yelp.com/biz/greek-style-chicken-f...</td>\n",
       "      <td>+17607238050</td>\n",
       "      <td>(760) 723-8050</td>\n",
       "      <td>133</td>\n",
       "      <td>[{'alias': 'greek', 'title': 'Greek'}, {'alias...</td>\n",
       "      <td>3.5</td>\n",
       "      <td>{'address1': '904 S Main St', 'address2': '', ...</td>\n",
       "      <td>{'latitude': 33.37471, 'longitude': -117.25092}</td>\n",
       "      <td>[https://s3-media1.fl.yelpcdn.com/bphoto/VMuNH...</td>\n",
       "      <td>[{'open': [{'is_overnight': False, 'start': '1...</td>\n",
       "      <td>[]</td>\n",
       "      <td>$</td>\n",
       "      <td>NaN</td>\n",
       "    </tr>\n",
       "  </tbody>\n",
       "</table>\n",
       "</div>"
      ],
      "text/plain": [
       "                       id                                        alias  \\\n",
       "0  6KBD9MojkUnAjl3Nd3_Q1Q                      shawarma-grill-temecula   \n",
       "1  Nxq9sYlzkpELg78g4gImBQ                       kabob-house-temecula-2   \n",
       "2  2RVZWPhzWjjRXmTUUmdhKQ                 soros-mediterranean-temecula   \n",
       "3  IbHNfpX57dBeQfxctwzvZw  mr-kabob-fresh-mediterranean-grill-temecula   \n",
       "4  0KrVp4dyKY9UtRzz2htiWg     pangaea-restaurant-and-wine-bar-temecula   \n",
       "5  8-7EJE5xwKKD9BKL3ywuyA               luna-grill-temecula-temecula-3   \n",
       "6  VNebwNMWToluPA59E_QYSw                             daphnes-temecula   \n",
       "7  1anMOn5Rh9d-9qRxN0U6PQ                 skewers-of-temecula-temecula   \n",
       "8  OAaUl7aienFAjdyrqmpxfA           sultan-bakery-and-grill-murrieta-4   \n",
       "9  uJnhj7xu2Ec0lCZcyJWuoA                greek-style-chicken-fallbrook   \n",
       "\n",
       "                                  name  \\\n",
       "0                       Shawarma Grill   \n",
       "1                          Kabob House   \n",
       "2                 Soro's Mediterranean   \n",
       "3  Mr. Kabob Fresh Mediterranean Grill   \n",
       "4      Pangaea Restaurant and Wine Bar   \n",
       "5                Luna Grill - Temecula   \n",
       "6                             Daphne's   \n",
       "7                  Skewers of Temecula   \n",
       "8              Sultan Bakery and Grill   \n",
       "9                  Greek Style Chicken   \n",
       "\n",
       "                                           image_url is_claimed is_closed  \\\n",
       "0  https://s3-media1.fl.yelpcdn.com/bphoto/c8GcB3...       True     False   \n",
       "1  https://s3-media2.fl.yelpcdn.com/bphoto/e5BATv...       True     False   \n",
       "2  https://s3-media1.fl.yelpcdn.com/bphoto/cuxhfe...       True     False   \n",
       "3  https://s3-media3.fl.yelpcdn.com/bphoto/PJ7Wtk...       True     False   \n",
       "4  https://s3-media1.fl.yelpcdn.com/bphoto/SFdEGN...       True     False   \n",
       "5  https://s3-media3.fl.yelpcdn.com/bphoto/5ggHRU...       True     False   \n",
       "6  https://s3-media3.fl.yelpcdn.com/bphoto/8mnngs...       True     False   \n",
       "7  https://s3-media2.fl.yelpcdn.com/bphoto/OGNqVv...       True     False   \n",
       "8  https://s3-media4.fl.yelpcdn.com/bphoto/3aLeTf...       True     False   \n",
       "9  https://s3-media1.fl.yelpcdn.com/bphoto/VMuNHr...       True     False   \n",
       "\n",
       "                                                 url         phone  \\\n",
       "0  https://www.yelp.com/biz/shawarma-grill-temecu...  +19513020095   \n",
       "1  https://www.yelp.com/biz/kabob-house-temecula-...  +19513030110   \n",
       "2  https://www.yelp.com/biz/soros-mediterranean-t...  +19515878082   \n",
       "3  https://www.yelp.com/biz/mr-kabob-fresh-medite...  +19516766175   \n",
       "4  https://www.yelp.com/biz/pangaea-restaurant-an...  +19512965674   \n",
       "5  https://www.yelp.com/biz/luna-grill-temecula-t...  +19512960605   \n",
       "6  https://www.yelp.com/biz/daphnes-temecula?adju...  +19515061110   \n",
       "7  https://www.yelp.com/biz/skewers-of-temecula-t...  +19517193237   \n",
       "8  https://www.yelp.com/biz/sultan-bakery-and-gri...  +19518944544   \n",
       "9  https://www.yelp.com/biz/greek-style-chicken-f...  +17607238050   \n",
       "\n",
       "    display_phone review_count  \\\n",
       "0  (951) 302-0095          205   \n",
       "1  (951) 303-0110          208   \n",
       "2  (951) 587-8082          752   \n",
       "3  (951) 676-6175          494   \n",
       "4  (951) 296-5674          129   \n",
       "5  (951) 296-0605          325   \n",
       "6  (951) 506-1110          184   \n",
       "7  (951) 719-3237          338   \n",
       "8  (951) 894-4544          680   \n",
       "9  (760) 723-8050          133   \n",
       "\n",
       "                                          categories  rating  \\\n",
       "0  [{'alias': 'sandwiches', 'title': 'Sandwiches'...     4.5   \n",
       "1  [{'alias': 'mediterranean', 'title': 'Mediterr...     4.5   \n",
       "2  [{'alias': 'mediterranean', 'title': 'Mediterr...     4.0   \n",
       "3  [{'alias': 'mediterranean', 'title': 'Mediterr...     4.0   \n",
       "4  [{'alias': 'mediterranean', 'title': 'Mediterr...     4.5   \n",
       "5  [{'alias': 'mediterranean', 'title': 'Mediterr...     4.0   \n",
       "6  [{'alias': 'greek', 'title': 'Greek'}, {'alias...     3.5   \n",
       "7  [{'alias': 'afghani', 'title': 'Afghan'}, {'al...     4.5   \n",
       "8  [{'alias': 'bakeries', 'title': 'Bakeries'}, {...     4.5   \n",
       "9  [{'alias': 'greek', 'title': 'Greek'}, {'alias...     3.5   \n",
       "\n",
       "                                            location  \\\n",
       "0  {'address1': '32483 Temecula Pkwy', 'address2'...   \n",
       "1  {'address1': '31093 Temecula Pkwy', 'address2'...   \n",
       "2  {'address1': '28464 Old Town Front St', 'addre...   \n",
       "3  {'address1': '28120 Jefferson Ave', 'address2'...   \n",
       "4  {'address1': '27326 Jefferson Ave', 'address2'...   \n",
       "5  {'address1': '40756 Winchester Rd', 'address2'...   \n",
       "6  {'address1': '27644 Ynez Rd, Ste M1-3', 'addre...   \n",
       "7  {'address1': '41653 Margarita Rd', 'address2':...   \n",
       "8  {'address1': '25285 Madison Ave', 'address2': ...   \n",
       "9  {'address1': '904 S Main St', 'address2': '', ...   \n",
       "\n",
       "                                         coordinates  \\\n",
       "0     {'latitude': 33.48217, 'longitude': -117.0899}   \n",
       "1    {'latitude': 33.47516, 'longitude': -117.12056}   \n",
       "2  {'latitude': 33.4958496, 'longitude': -117.151...   \n",
       "3    {'latitude': 33.50337, 'longitude': -117.15366}   \n",
       "4     {'latitude': 33.52241, 'longitude': -117.1653}   \n",
       "5  {'latitude': 33.5244447080731, 'longitude': -1...   \n",
       "6    {'latitude': 33.50414, 'longitude': -117.14892}   \n",
       "7  {'latitude': 33.5203907, 'longitude': -117.151...   \n",
       "8  {'latitude': 33.553195, 'longitude': -117.197106}   \n",
       "9    {'latitude': 33.37471, 'longitude': -117.25092}   \n",
       "\n",
       "                                              photos  \\\n",
       "0  [https://s3-media1.fl.yelpcdn.com/bphoto/c8GcB...   \n",
       "1  [https://s3-media2.fl.yelpcdn.com/bphoto/e5BAT...   \n",
       "2  [https://s3-media1.fl.yelpcdn.com/bphoto/cuxhf...   \n",
       "3  [https://s3-media3.fl.yelpcdn.com/bphoto/PJ7Wt...   \n",
       "4  [https://s3-media1.fl.yelpcdn.com/bphoto/SFdEG...   \n",
       "5  [https://s3-media3.fl.yelpcdn.com/bphoto/5ggHR...   \n",
       "6  [https://s3-media3.fl.yelpcdn.com/bphoto/8mnng...   \n",
       "7  [https://s3-media2.fl.yelpcdn.com/bphoto/OGNqV...   \n",
       "8  [https://s3-media4.fl.yelpcdn.com/bphoto/3aLeT...   \n",
       "9  [https://s3-media1.fl.yelpcdn.com/bphoto/VMuNH...   \n",
       "\n",
       "                                               hours        transactions  \\\n",
       "0  [{'open': [{'is_overnight': False, 'start': '1...  [delivery, pickup]   \n",
       "1  [{'open': [{'is_overnight': False, 'start': '1...  [delivery, pickup]   \n",
       "2  [{'open': [{'is_overnight': False, 'start': '0...  [pickup, delivery]   \n",
       "3  [{'open': [{'is_overnight': False, 'start': '1...  [pickup, delivery]   \n",
       "4  [{'open': [{'is_overnight': False, 'start': '1...          [delivery]   \n",
       "5  [{'open': [{'is_overnight': False, 'start': '1...  [delivery, pickup]   \n",
       "6  [{'open': [{'is_overnight': False, 'start': '1...  [delivery, pickup]   \n",
       "7  [{'open': [{'is_overnight': False, 'start': '1...  [delivery, pickup]   \n",
       "8  [{'open': [{'is_overnight': False, 'start': '1...  [delivery, pickup]   \n",
       "9  [{'open': [{'is_overnight': False, 'start': '1...                  []   \n",
       "\n",
       "  price                                          messaging  \n",
       "0   NaN                                                NaN  \n",
       "1    $$                                                NaN  \n",
       "2    $$                                                NaN  \n",
       "3    $$                                                NaN  \n",
       "4    $$                                                NaN  \n",
       "5    $$                                                NaN  \n",
       "6     $  {'url': 'https://www.yelp.com/raq/VNebwNMWTolu...  \n",
       "7     $                                                NaN  \n",
       "8     $                                                NaN  \n",
       "9     $                                                NaN  "
      ]
     },
     "execution_count": 7,
     "metadata": {},
     "output_type": "execute_result"
    }
   ],
   "source": [
    "import pandas as pd\n",
    "\n",
    "df_details = None\n",
    "businesses = r_json['businesses']\n",
    "for business in businesses:\n",
    "    headers = {\n",
    "        'Authorization': 'Bearer {}'.format(api_key),\n",
    "    }\n",
    "    url = f\"https://api.yelp.com/v3/businesses/{business['id']}\"\n",
    "    url_params = None\n",
    "    resp_details = requests.get(url, headers=headers, params=url_params)\n",
    "    r_d_json = resp_details.json()\n",
    "    if df_details is None:\n",
    "        df_details = pd.DataFrame(columns=r_d_json.keys())\n",
    "    df_details = df_details.append(r_d_json, ignore_index=True)\n",
    "    \n",
    "df_details"
   ]
  },
  {
   "cell_type": "markdown",
   "metadata": {},
   "source": [
    "## Exploratory Analysis\n",
    "\n",
    "Take the restaurants from the previous question and do an initial exploratory analysis. At minimum, this should include looking at the distribution of features such as price, rating and number of reviews as well as the relations between these dimensions."
   ]
  },
  {
   "cell_type": "code",
   "execution_count": 8,
   "metadata": {},
   "outputs": [
    {
     "data": {
      "text/html": [
       "<b>Features with null values:</b><br><br>"
      ],
      "text/plain": [
       "<IPython.core.display.HTML object>"
      ]
     },
     "metadata": {},
     "output_type": "display_data"
    },
    {
     "data": {
      "text/html": [
       "<table border=\"1\" class=\"dataframe\">\n",
       "  <thead>\n",
       "    <tr style=\"text-align: right;\">\n",
       "      <th></th>\n",
       "      <th>name</th>\n",
       "      <th>index</th>\n",
       "      <th>dtype</th>\n",
       "      <th>n_null</th>\n",
       "    </tr>\n",
       "  </thead>\n",
       "  <tbody>\n",
       "    <tr>\n",
       "      <th>0</th>\n",
       "      <td>price</td>\n",
       "      <td>17</td>\n",
       "      <td>object</td>\n",
       "      <td>1</td>\n",
       "    </tr>\n",
       "    <tr>\n",
       "      <th>1</th>\n",
       "      <td>messaging</td>\n",
       "      <td>18</td>\n",
       "      <td>object</td>\n",
       "      <td>9</td>\n",
       "    </tr>\n",
       "  </tbody>\n",
       "</table>"
      ],
      "text/plain": [
       "<IPython.core.display.HTML object>"
      ]
     },
     "metadata": {},
     "output_type": "display_data"
    },
    {
     "data": {
      "text/html": [
       "<br>2 rows x 4 columns<br><br>"
      ],
      "text/plain": [
       "<IPython.core.display.HTML object>"
      ]
     },
     "metadata": {},
     "output_type": "display_data"
    }
   ],
   "source": [
    "import scjpnlib.utils as scjpnutils\n",
    "from IPython.core.display import HTML\n",
    "\n",
    "details_cwnv_df = scjpnutils.cols_with_nulls(df_details)\n",
    "display(HTML(\"<b>Features with null values:</b><br><br>\"))\n",
    "scjpnutils.print_df(details_cwnv_df)"
   ]
  },
  {
   "cell_type": "code",
   "execution_count": 9,
   "metadata": {},
   "outputs": [
    {
     "name": "stdout",
     "output_type": "stream",
     "text": [
      "[nan '$$' '$']\n"
     ]
    }
   ],
   "source": [
    "unique = df_details['price'].unique()\n",
    "print(unique)"
   ]
  },
  {
   "cell_type": "code",
   "execution_count": 10,
   "metadata": {},
   "outputs": [
    {
     "name": "stdout",
     "output_type": "stream",
     "text": [
      "*** CLEANING VALUES of df: BEGIN ***\n",
      "Rules for 'price' are: [(nan, '0')]\n",
      "Looking for rows with 'price' values in [nan] ...\n",
      "Rows with offending values occur at Int64Index([0], dtype='int64').\n",
      "Replaced 1 offending instances in column 'price' with literal value '0'\n",
      "*** CLEANING VALUES of df: END ***\n",
      "*** CLEANING VALUES of df: BEGIN ***\n",
      "Rules for 'price' are: [('$', '1')]\n",
      "Looking for rows with 'price' values in ['$'] ...\n",
      "Rows with offending values occur at Int64Index([6, 7, 8, 9], dtype='int64').\n",
      "Replaced 4 offending instances in column 'price' with literal value '1'\n",
      "*** CLEANING VALUES of df: END ***\n",
      "*** CLEANING VALUES of df: BEGIN ***\n",
      "Rules for 'price' are: [('$$', '2')]\n",
      "Looking for rows with 'price' values in ['$$'] ...\n",
      "Rows with offending values occur at Int64Index([1, 2, 3, 4, 5], dtype='int64').\n",
      "Replaced 5 offending instances in column 'price' with literal value '2'\n",
      "*** CLEANING VALUES of df: END ***\n",
      "*** CLEANING VALUES of df: BEGIN ***\n",
      "Rules for 'price' are: [('$$$', '3')]\n",
      "Looking for rows with 'price' values in ['$$$'] ...\n",
      "There are no rows that contain values of 'price' in ['$$$']!\n",
      "*** CLEANING VALUES of df: END ***\n",
      "*** CLEANING VALUES of df: BEGIN ***\n",
      "Rules for 'price' are: [('$$$$', '4')]\n",
      "Looking for rows with 'price' values in ['$$$$'] ...\n",
      "There are no rows that contain values of 'price' in ['$$$$']!\n",
      "*** CLEANING VALUES of df: END ***\n",
      "\n",
      " [0 2 1]\n"
     ]
    }
   ],
   "source": [
    "import numpy as np\n",
    "\n",
    "scjpnutils.clean_offending_values(\n",
    "    df_details\n",
    "    , string_replacement_rules=\n",
    "        {\n",
    "            'price': [(np.NaN, '0')]\n",
    "        }\n",
    ")\n",
    "for i in range(1, 5): \n",
    "    scjpnutils.clean_offending_values(\n",
    "        df_details\n",
    "        , string_replacement_rules=\n",
    "            {\n",
    "                'price': [('$'*i, f'{i}')]\n",
    "            }\n",
    "    )\n",
    "df_details.loc[:, 'price'] = df_details.price.astype('int64')\n",
    "unique = df_details['price'].unique()\n",
    "print(\"\\n\", unique)"
   ]
  },
  {
   "cell_type": "code",
   "execution_count": 11,
   "metadata": {},
   "outputs": [
    {
     "name": "stdout",
     "output_type": "stream",
     "text": [
      "*** CLEANING VALUES of df: BEGIN ***\n",
      "Rules for 'review_count' are: [(nan, '0')]\n",
      "Looking for rows with 'review_count' values in [nan] ...\n",
      "There are no rows that contain values of 'review_count' in [nan]!\n",
      "*** CLEANING VALUES of df: END ***\n",
      "\n",
      " [205 208 752 494 129 325 184 338 680 133]\n"
     ]
    }
   ],
   "source": [
    "scjpnutils.clean_offending_values(\n",
    "    df_details\n",
    "    , string_replacement_rules=\n",
    "        {\n",
    "            'review_count': [(np.NaN, '0')]\n",
    "        }\n",
    ")\n",
    "df_details.loc[:, 'review_count'] = df_details.review_count.astype('int64')\n",
    "unique = df_details['review_count'].unique()\n",
    "print(\"\\n\", unique)"
   ]
  },
  {
   "cell_type": "code",
   "execution_count": 12,
   "metadata": {},
   "outputs": [
    {
     "data": {
      "image/png": "[encoded data removed]",
      "text/plain": [
       "<Figure size 432x288 with 1 Axes>"
      ]
     },
     "metadata": {
      "needs_background": "light"
     },
     "output_type": "display_data"
    }
   ],
   "source": [
    "# Your code here\n",
    "import matplotlib.pyplot as plt\n",
    "%matplotlib inline\n",
    "\n",
    "fig = plt.figure()\n",
    "df_details.rating.hist()\n",
    "plt.xlabel('Rating', color='red')\n",
    "plt.ylabel('Count', fontsize=12) \n",
    "plt.title(f\"Distribution of Ratings of {term} Restaurants in {location}\");"
   ]
  },
  {
   "cell_type": "code",
   "execution_count": 13,
   "metadata": {},
   "outputs": [
    {
     "data": {
      "image/png": "[encoded data removed]",
      "text/plain": [
       "<Figure size 432x288 with 1 Axes>"
      ]
     },
     "metadata": {
      "needs_background": "light"
     },
     "output_type": "display_data"
    }
   ],
   "source": [
    "fig = plt.figure()\n",
    "df_details.review_count.hist()\n",
    "plt.xlabel('Review Count', color='red')\n",
    "plt.ylabel('Count', fontsize=12) \n",
    "plt.title(f\"Distribution of Review Counts of {term} Restaurants in {location}\");"
   ]
  },
  {
   "cell_type": "code",
   "execution_count": 14,
   "metadata": {
    "scrolled": false
   },
   "outputs": [
    {
     "data": {
      "image/png": "[encoded data removed]",
      "text/plain": [
       "<Figure size 432x288 with 1 Axes>"
      ]
     },
     "metadata": {
      "needs_background": "light"
     },
     "output_type": "display_data"
    }
   ],
   "source": [
    "fig = plt.figure()\n",
    "df_details.price.hist()\n",
    "plt.xlabel('Price', color='red')\n",
    "plt.ylabel('Count', fontsize=12) \n",
    "plt.title(f\"Distribution of Price for {term} Restaurants in {location}\");"
   ]
  },
  {
   "cell_type": "code",
   "execution_count": 15,
   "metadata": {},
   "outputs": [
    {
     "data": {
      "image/png": "[encoded data removed]",
      "text/plain": [
       "<Figure size 432x432 with 9 Axes>"
      ]
     },
     "metadata": {
      "needs_background": "light"
     },
     "output_type": "display_data"
    }
   ],
   "source": [
    "from pandas.plotting import scatter_matrix\n",
    "\n",
    "scatter_matrix(df_details, figsize=(6, 6), diagonal='kde');"
   ]
  },
  {
   "cell_type": "markdown",
   "metadata": {},
   "source": [
    "## Mapping\n",
    "\n",
    "Look at the initial Yelp example and try and make a map using Folium of the restaurants you retrieved. Be sure to also add popups to the markers giving some basic information such as name, rating and price."
   ]
  },
  {
   "cell_type": "code",
   "execution_count": 16,
   "metadata": {},
   "outputs": [
    {
     "name": "stdout",
     "output_type": "stream",
     "text": [
      "{'latitude': 33.48217, 'longitude': -117.0899}\n",
      "{'latitude': 33.47516, 'longitude': -117.12056}\n",
      "{'latitude': 33.4958496, 'longitude': -117.151502}\n",
      "{'latitude': 33.50337, 'longitude': -117.15366}\n",
      "{'latitude': 33.52241, 'longitude': -117.1653}\n",
      "{'latitude': 33.5244447080731, 'longitude': -117.152758953373}\n",
      "{'latitude': 33.50414, 'longitude': -117.14892}\n",
      "{'latitude': 33.5203907, 'longitude': -117.1514485}\n",
      "{'latitude': 33.553195, 'longitude': -117.197106}\n",
      "{'latitude': 33.37471, 'longitude': -117.25092}\n",
      "\n",
      " centroid: (33.49558400080731, -117.15820754533729)\n"
     ]
    }
   ],
   "source": [
    "# first find centroid of all coords of restaurants\n",
    "mean_lat = 0\n",
    "mean_lon = 0\n",
    "for coord in df_details.coordinates:\n",
    "    print(coord)\n",
    "    mean_lat += coord['latitude']\n",
    "    mean_lon += coord['longitude']\n",
    "mean_lat /= len(df_details.coordinates)\n",
    "mean_lon /= len(df_details.coordinates)\n",
    "centroid = (mean_lat, mean_lon)\n",
    "print(\"\\n\", f\"centroid: {centroid}\")"
   ]
  },
  {
   "cell_type": "code",
   "execution_count": 17,
   "metadata": {
    "scrolled": false
   },
   "outputs": [
    {
     "data": {
      "text/html": [
       "<div style=\"width:100%;\"><div style=\"position:relative;width:100%;height:0;padding-bottom:60%;\"><iframe src=\"data:text/html;charset=utf-8;base64,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\" style=\"position:absolute;width:100%;height:100%;left:0;top:0;border:none !important;\" allowfullscreen webkitallowfullscreen mozallowfullscreen></iframe></div></div>"
      ],
      "text/plain": [
       "<folium.folium.Map at 0x1a178583c8>"
      ]
     },
     "execution_count": 17,
     "metadata": {},
     "output_type": "execute_result"
    }
   ],
   "source": [
    "# Your code here\n",
    "import folium\n",
    "\n",
    "# #Create a map of the area\n",
    "base_map = folium.Map([centroid[0], centroid[1]], zoom_start=13)\n",
    "\n",
    "for _, restaurant in df_details[['coordinates', 'name', 'rating', 'price', 'location', 'display_phone']].iterrows():\n",
    "    coords = restaurant[0]\n",
    "    popup_text = f\"<b>{restaurant[1]}</b>: {restaurant[2]} RATING\"\n",
    "    price = restaurant[3]\n",
    "    if price > 0:\n",
    "        popup_text += f\", {'$'*restaurant[3]} PRICE\"\n",
    "    popup_text += f\"<br>{restaurant[4]['address1']}\"\n",
    "    addr_2 = restaurant[4]['address2']\n",
    "    if addr_2 is not None and len(addr_2) > 0:\n",
    "        popup_text += f\", {addr_2}\" \n",
    "    addr_3 = restaurant[4]['address3']\n",
    "    if addr_3 is not None and len(addr_3) > 0:\n",
    "        popup_text += f\"<br>{addr_3}\"\n",
    "    popup_text += f\"<br>{restaurant[5]}\"\n",
    "    \n",
    "    popup_html = folium.Html(popup_text, script=True)\n",
    "    popup = folium.Popup(popup_html, max_width=350, min_width=350)\n",
    "    \n",
    "    marker = folium.Marker(location=[coords['latitude'], coords['longitude']], popup=popup)\n",
    "    marker.add_to(base_map)\n",
    "    \n",
    "base_map"
   ]
  },
  {
   "cell_type": "markdown",
   "metadata": {},
   "source": [
    "## Summary\n",
    "\n",
    "Nice work! In this lab, you synthesized your skills for the day, making multiple API calls to Yelp in order to paginate through a results set, performing some basic exploratory analysis and then creating a nice map visual to display the results! Well done!"
   ]
  }
 ],
 "metadata": {
  "kernelspec": {
   "display_name": "Python [conda env:learn-env] *",
   "language": "python",
   "name": "conda-env-learn-env-py"
  },
  "language_info": {
   "codemirror_mode": {
    "name": "ipython",
    "version": 3
   },
   "file_extension": ".py",
   "mimetype": "text/x-python",
   "name": "python",
   "nbconvert_exporter": "python",
   "pygments_lexer": "ipython3",
   "version": "3.6.10"
  }
 },
 "nbformat": 4,
 "nbformat_minor": 2
}
